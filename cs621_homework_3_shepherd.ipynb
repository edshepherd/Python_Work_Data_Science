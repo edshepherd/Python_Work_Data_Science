{
 "cells": [
  {
   "cell_type": "code",
   "execution_count": 1,
   "id": "b2b30467",
   "metadata": {},
   "outputs": [],
   "source": [
    "import pandas as pd\n",
    "\n",
    "df_c = pd.read_csv(\"/Users/burrisfaculty/Desktop/DSCode/CS621/cs621_homework_3_data_complete.csv\")"
   ]
  },
  {
   "cell_type": "code",
   "execution_count": 2,
   "id": "e0601015",
   "metadata": {},
   "outputs": [
    {
     "data": {
      "text/html": [
       "<div>\n",
       "<style scoped>\n",
       "    .dataframe tbody tr th:only-of-type {\n",
       "        vertical-align: middle;\n",
       "    }\n",
       "\n",
       "    .dataframe tbody tr th {\n",
       "        vertical-align: top;\n",
       "    }\n",
       "\n",
       "    .dataframe thead th {\n",
       "        text-align: right;\n",
       "    }\n",
       "</style>\n",
       "<table border=\"1\" class=\"dataframe\">\n",
       "  <thead>\n",
       "    <tr style=\"text-align: right;\">\n",
       "      <th></th>\n",
       "      <th>gender</th>\n",
       "      <th>age</th>\n",
       "      <th>hypertension</th>\n",
       "      <th>heart_disease</th>\n",
       "      <th>ever_married</th>\n",
       "      <th>work_type</th>\n",
       "      <th>Residence_type</th>\n",
       "      <th>avg_glucose_level</th>\n",
       "      <th>bmi</th>\n",
       "      <th>smoking_status</th>\n",
       "      <th>stroke</th>\n",
       "    </tr>\n",
       "  </thead>\n",
       "  <tbody>\n",
       "    <tr>\n",
       "      <th>0</th>\n",
       "      <td>Male</td>\n",
       "      <td>67</td>\n",
       "      <td>0</td>\n",
       "      <td>1</td>\n",
       "      <td>Yes</td>\n",
       "      <td>Private</td>\n",
       "      <td>Urban</td>\n",
       "      <td>228.69</td>\n",
       "      <td>36.6</td>\n",
       "      <td>formerly smoked</td>\n",
       "      <td>1</td>\n",
       "    </tr>\n",
       "    <tr>\n",
       "      <th>1</th>\n",
       "      <td>Male</td>\n",
       "      <td>80</td>\n",
       "      <td>0</td>\n",
       "      <td>1</td>\n",
       "      <td>Yes</td>\n",
       "      <td>Private</td>\n",
       "      <td>Rural</td>\n",
       "      <td>105.92</td>\n",
       "      <td>32.5</td>\n",
       "      <td>never smoked</td>\n",
       "      <td>1</td>\n",
       "    </tr>\n",
       "    <tr>\n",
       "      <th>2</th>\n",
       "      <td>Female</td>\n",
       "      <td>49</td>\n",
       "      <td>0</td>\n",
       "      <td>0</td>\n",
       "      <td>Yes</td>\n",
       "      <td>Private</td>\n",
       "      <td>Urban</td>\n",
       "      <td>171.23</td>\n",
       "      <td>34.4</td>\n",
       "      <td>smokes</td>\n",
       "      <td>1</td>\n",
       "    </tr>\n",
       "  </tbody>\n",
       "</table>\n",
       "</div>"
      ],
      "text/plain": [
       "   gender  age  hypertension  heart_disease ever_married work_type  \\\n",
       "0    Male   67             0              1          Yes   Private   \n",
       "1    Male   80             0              1          Yes   Private   \n",
       "2  Female   49             0              0          Yes   Private   \n",
       "\n",
       "  Residence_type  avg_glucose_level   bmi   smoking_status  stroke  \n",
       "0          Urban             228.69  36.6  formerly smoked       1  \n",
       "1          Rural             105.92  32.5     never smoked       1  \n",
       "2          Urban             171.23  34.4           smokes       1  "
      ]
     },
     "execution_count": 2,
     "metadata": {},
     "output_type": "execute_result"
    }
   ],
   "source": [
    "#Check to make sure it loaded\n",
    "df_c.head(3)"
   ]
  },
  {
   "cell_type": "code",
   "execution_count": 19,
   "id": "e19d49fe",
   "metadata": {},
   "outputs": [],
   "source": [
    "#Search feature of bmi-- numerical column\n",
    "def bmi_search():\n",
    "    bmi_list = list(df_c[\"bmi\"])\n",
    "    target = float(input(\"Enter the BMI to search for \"))\n",
    "    num_found = 0\n",
    "    for bmi in bmi_list:\n",
    "        if target == bmi:\n",
    "            num_found += 1\n",
    "    if num_found == 0:\n",
    "        print(\"No records found\")\n",
    "    else:\n",
    "        print(\"Yes, there are \", num_found, \" records matching that search\")"
   ]
  },
  {
   "cell_type": "code",
   "execution_count": 20,
   "id": "0842b026",
   "metadata": {},
   "outputs": [
    {
     "name": "stdout",
     "output_type": "stream",
     "text": [
      "Enter the BMI to search for 32.1\n",
      "No records found\n"
     ]
    }
   ],
   "source": [
    "bmi_search()"
   ]
  },
  {
   "cell_type": "code",
   "execution_count": 21,
   "id": "60a30d44",
   "metadata": {},
   "outputs": [
    {
     "name": "stdout",
     "output_type": "stream",
     "text": [
      "Enter the BMI to search for 36.6\n",
      "Yes, there are  1  records matching that search\n"
     ]
    }
   ],
   "source": [
    "bmi_search()"
   ]
  },
  {
   "cell_type": "code",
   "execution_count": 25,
   "id": "5f6885c7",
   "metadata": {},
   "outputs": [],
   "source": [
    "def smoker_search():\n",
    "    smoker_list = list(df_c[\"smoking_status\"])\n",
    "    target = input(\"Enter the smoking status to be searched. \")\n",
    "    num_found = 0\n",
    "    for smoke in smoker_list:\n",
    "        if target == smoke:\n",
    "            num_found += 1\n",
    "    if num_found == 0:\n",
    "        print(\"No records found\")\n",
    "    else:\n",
    "        print(\"Yes, there are \", num_found, \" records matching that search\")\n",
    "\n"
   ]
  },
  {
   "cell_type": "code",
   "execution_count": 27,
   "id": "47416452",
   "metadata": {},
   "outputs": [
    {
     "name": "stdout",
     "output_type": "stream",
     "text": [
      "Enter the smoking status to be searched. lkdsajfl;askdj\n",
      "No records found\n",
      "Enter the smoking status to be searched. formerly smoked\n",
      "Yes, there are  27  records matching that search\n"
     ]
    }
   ],
   "source": [
    "smoker_search()\n",
    "smoker_search()\n"
   ]
  },
  {
   "cell_type": "code",
   "execution_count": 15,
   "id": "2be925b4",
   "metadata": {},
   "outputs": [],
   "source": [
    "#Part 2\n",
    "df_dup = pd.read_csv(\"/Users/burrisfaculty/Desktop/DSCode/CS621/cs621_homework_3_data_duplicate.csv\")"
   ]
  },
  {
   "cell_type": "code",
   "execution_count": 16,
   "id": "e6593465",
   "metadata": {},
   "outputs": [
    {
     "name": "stdout",
     "output_type": "stream",
     "text": [
      "Duplicate records:  3\n",
      "[27, 90, 100]\n",
      "[0, 1, 2, 3, 4, 5, 6, 7, 8, 9, 10, 11, 12, 13, 14, 15, 16, 17, 18, 19, 20, 21, 22, 23, 24, 25, 26, 28, 29, 30, 31, 32, 33, 34, 35, 36, 37, 38, 39, 40, 41, 42, 43, 44, 45, 46, 47, 48, 49, 50, 51, 52, 53, 54, 55, 56, 57, 58, 59, 60, 61, 62, 63, 64, 65, 66, 67, 68, 69, 70, 71, 72, 73, 74, 75, 76, 77, 78, 79, 80, 81, 82, 83, 84, 85, 86, 87, 88, 89, 91, 92, 93, 94, 95, 96, 97, 98, 99, 101, 102, 103]\n"
     ]
    }
   ],
   "source": [
    "is_duplicated = df_dup.duplicated()\n",
    "duplicates = []\n",
    "non_duplicates = []\n",
    "for i in range(len(is_duplicated)):\n",
    "    if (is_duplicated[i]):\n",
    "        duplicates.append(i)\n",
    "    else:\n",
    "        non_duplicates.append(i)\n",
    "print(\"Duplicate records: \", len(duplicates))\n",
    "        \n",
    "print(duplicates)\n",
    "print(non_duplicates)"
   ]
  },
  {
   "cell_type": "code",
   "execution_count": 17,
   "id": "96815566",
   "metadata": {},
   "outputs": [],
   "source": [
    "#Part 3 -- Missing Data\n",
    "df_miss = pd.read_csv(\"/Users/burrisfaculty/Desktop/DSCode/CS621/cs621_homework_3_data_missing.csv\")"
   ]
  },
  {
   "cell_type": "code",
   "execution_count": 28,
   "id": "d0248c2f",
   "metadata": {},
   "outputs": [
    {
     "name": "stdout",
     "output_type": "stream",
     "text": [
      "20 5\n",
      "31 9\n",
      "46 7\n",
      "47 1\n",
      "63 3\n",
      "66 7\n",
      "Missing Values:  6\n"
     ]
    }
   ],
   "source": [
    "num_missing = 0\n",
    "for i in range(len(df_miss)):\n",
    "    for j in range(len(df_miss.columns)):\n",
    "        if (pd.isnull(df_miss.iloc[i, j])):\n",
    "            num_missing += 1\n",
    "            print(i,j)\n",
    "if (num_missing > 0):\n",
    "    print(\"Missing Values: \", num_missing)\n",
    "else:\n",
    "    print(\"No missing values.\")"
   ]
  },
  {
   "cell_type": "code",
   "execution_count": null,
   "id": "33c30b01",
   "metadata": {},
   "outputs": [],
   "source": []
  }
 ],
 "metadata": {
  "kernelspec": {
   "display_name": "Python 3 (ipykernel)",
   "language": "python",
   "name": "python3"
  },
  "language_info": {
   "codemirror_mode": {
    "name": "ipython",
    "version": 3
   },
   "file_extension": ".py",
   "mimetype": "text/x-python",
   "name": "python",
   "nbconvert_exporter": "python",
   "pygments_lexer": "ipython3",
   "version": "3.9.12"
  }
 },
 "nbformat": 4,
 "nbformat_minor": 5
}
